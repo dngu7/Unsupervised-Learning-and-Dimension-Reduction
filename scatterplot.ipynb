{
 "cells": [
  {
   "cell_type": "code",
   "execution_count": 148,
   "metadata": {},
   "outputs": [],
   "source": [
    "%matplotlib inline\n",
    "import pandas as pd\n",
    "import numpy as np\n",
    "from sklearn.cluster import KMeans\n",
    "from sklearn.preprocessing import LabelEncoder\n",
    "from sklearn.preprocessing import scale\n",
    "\n",
    "from sklearn.metrics import accuracy_score\n",
    "from sklearn.mixture import GaussianMixture, BayesianGaussianMixture\n",
    "from sklearn.datasets import load_digits\n",
    "from scipy.stats import mode\n",
    "\n",
    "from sklearn.decomposition import PCA, FastICA, NMF\n",
    "from sklearn import random_projection\n",
    "#https://scikit-learn.org/stable/modules/decomposition.html#decompositions\n",
    "#NMF Non-negative factorization (NMF)\n",
    "\n",
    "import seaborn as sns\n",
    "import matplotlib.pyplot as plt\n",
    "import sys"
   ]
  },
  {
   "cell_type": "code",
   "execution_count": 197,
   "metadata": {},
   "outputs": [
    {
     "data": {
      "image/png": "[encoded data removed]",
      "text/plain": [
       "<Figure size 432x288 with 1 Axes>"
      ]
     },
     "metadata": {
      "needs_background": "light"
     },
     "output_type": "display_data"
    }
   ],
   "source": [
    "accuracy_list = []\n",
    "x_axis = []\n",
    "for i in range(2,9):\n",
    "    k_value = i\n",
    "    \n",
    "    #Data\n",
    "    '''\n",
    "    cluster_size = i #10\n",
    "    digits = load_digits()\n",
    "    X = digits.data\n",
    "    y = digits.target\n",
    "    '''\n",
    "\n",
    "    data_location = './pima-indians-diabetes.data'\n",
    "    header = ['pregnancies', 'glucose', 'bloodpressure', 'skinthickness', \n",
    "            'insulin', 'bmi', 'diabetepedigree', 'age', 'outcome']\n",
    "\n",
    "    df = pd.read_csv(data_location, names=header)\n",
    "\n",
    "    X = np.array(df.drop(['outcome'], 1).astype(float))\n",
    "    y = np.array(df['outcome'])\n",
    "    \n",
    "    #Feature transformation\n",
    "    nmf = NMF(n_components=k_value)\n",
    "    X = nmf.fit_transform(X)\n",
    "\n",
    "    \n",
    "    \n",
    "    #clustering algorithm\n",
    "    \n",
    "    \n",
    "    kmeans = KMeans(init='k-means++', n_clusters=k_value, random_state=0)\n",
    "    clusters = kmeans.fit_predict(X)\n",
    "    '''\n",
    "    gmm = GaussianMixture(n_components=k_value,\n",
    "                                covariance_type='full',\n",
    "                                max_iter=1000,\n",
    "                                n_init=1).fit(X)\n",
    "\n",
    "    clusters = gmm.fit_predict(X)\n",
    "    '''\n",
    "    predict_y = np.zeros_like(clusters)\n",
    "    for i in range(k_value):\n",
    "        mask = (clusters == i)\n",
    "        predict_y[mask] = mode(y[mask])[0]\n",
    "\n",
    "    #graphing\n",
    "    x_axis.append(i)\n",
    "    accuracy_list.append(accuracy_score(y, predict_y))\n",
    "\n",
    "plt.scatter(x_axis, accuracy_list, s=10)\n",
    "plt.title('Impact of k on Accuracy - EM Algorithm')\n",
    "plt.xlabel('k')\n",
    "plt.ylabel('Accuracy')\n",
    "plt.show()"
   ]
  },
  {
   "cell_type": "code",
   "execution_count": 193,
   "metadata": {},
   "outputs": [
    {
     "name": "stdout",
     "output_type": "stream",
     "text": [
      "[0.7200520833333334, 0.7122395833333334, 0.6705729166666666, 0.6575520833333334, 0.6549479166666666, 0.6510416666666666, 0.6666666666666666, 0.68359375, 0.7005208333333334]\n"
     ]
    }
   ],
   "source": [
    "print(accuracy_list)"
   ]
  },
  {
   "cell_type": "markdown",
   "metadata": {},
   "source": [
    "###### "
   ]
  },
  {
   "cell_type": "code",
   "execution_count": 154,
   "metadata": {},
   "outputs": [
    {
     "ename": "ValueError",
     "evalue": "shapes (11,11) and (64,) not aligned: 11 (dim 1) != 64 (dim 0)",
     "output_type": "error",
     "traceback": [
      "\u001b[0;31m---------------------------------------------------------------------------\u001b[0m",
      "\u001b[0;31mValueError\u001b[0m                                Traceback (most recent call last)",
      "\u001b[0;32m<ipython-input-154-d85e3a06b22b>\u001b[0m in \u001b[0;36m<module>\u001b[0;34m\u001b[0m\n\u001b[1;32m      1\u001b[0m \u001b[0;32mfor\u001b[0m \u001b[0meigenvalue\u001b[0m\u001b[0;34m,\u001b[0m \u001b[0meigenvector\u001b[0m \u001b[0;32min\u001b[0m \u001b[0mzip\u001b[0m\u001b[0;34m(\u001b[0m\u001b[0meigenvalues\u001b[0m\u001b[0;34m,\u001b[0m \u001b[0mpca\u001b[0m\u001b[0;34m.\u001b[0m\u001b[0mcomponents_\u001b[0m\u001b[0;34m)\u001b[0m\u001b[0;34m:\u001b[0m\u001b[0;34m\u001b[0m\u001b[0m\n\u001b[0;32m----> 2\u001b[0;31m     \u001b[0mprint\u001b[0m\u001b[0;34m(\u001b[0m\u001b[0mnp\u001b[0m\u001b[0;34m.\u001b[0m\u001b[0mdot\u001b[0m\u001b[0;34m(\u001b[0m\u001b[0meigenvector\u001b[0m\u001b[0;34m.\u001b[0m\u001b[0mT\u001b[0m\u001b[0;34m,\u001b[0m \u001b[0mnp\u001b[0m\u001b[0;34m.\u001b[0m\u001b[0mdot\u001b[0m\u001b[0;34m(\u001b[0m\u001b[0mcov_matrix\u001b[0m\u001b[0;34m,\u001b[0m \u001b[0meigenvector\u001b[0m\u001b[0;34m)\u001b[0m\u001b[0;34m)\u001b[0m\u001b[0;34m)\u001b[0m\u001b[0;34m\u001b[0m\u001b[0m\n\u001b[0m\u001b[1;32m      3\u001b[0m     \u001b[0mprint\u001b[0m\u001b[0;34m(\u001b[0m\u001b[0meigenvalue\u001b[0m\u001b[0;34m)\u001b[0m\u001b[0;34m\u001b[0m\u001b[0m\n",
      "\u001b[0;31mValueError\u001b[0m: shapes (11,11) and (64,) not aligned: 11 (dim 1) != 64 (dim 0)"
     ]
    }
   ],
   "source": []
  },
  {
   "cell_type": "code",
   "execution_count": null,
   "metadata": {},
   "outputs": [],
   "source": []
  }
 ],
 "metadata": {
  "kernelspec": {
   "display_name": "Python 3",
   "language": "python",
   "name": "python3"
  },
  "language_info": {
   "codemirror_mode": {
    "name": "ipython",
    "version": 3
   },
   "file_extension": ".py",
   "mimetype": "text/x-python",
   "name": "python",
   "nbconvert_exporter": "python",
   "pygments_lexer": "ipython3",
   "version": "3.6.1"
  }
 },
 "nbformat": 4,
 "nbformat_minor": 2
}
